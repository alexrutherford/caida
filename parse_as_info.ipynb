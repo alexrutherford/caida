{
 "cells": [
  {
   "cell_type": "code",
   "execution_count": 1,
   "metadata": {
    "collapsed": true
   },
   "outputs": [],
   "source": [
    "import pandas as pd"
   ]
  },
  {
   "cell_type": "code",
   "execution_count": 9,
   "metadata": {
    "collapsed": false
   },
   "outputs": [
    {
     "name": "stdout",
     "output_type": "stream",
     "text": [
      "# name: AS Org\r\n",
      "# date: 201507\r\n",
      "# program start time: 2015-07-20 15:19:02\r\n",
      "# file creation time: 2015-07-20 15:19:58\r\n",
      "# exe:build-as_org2info.pl\r\n",
      "#    argument: -w /project/as2org/families.txt\r\n",
      "#    argument: -D 201507\r\n",
      "#    argument: /data/external/whois-database-dumps/201507/20150701.delegated-afrinic.txt.gz\r\n",
      "#    argument: /data/external/whois-database-dumps/201507/20150701.delegated-apnic.txt.gz\r\n",
      "#    argument: /data/external/whois-database-dumps/201507/20150701.delegated-arin-extended.txt.gz\r\n",
      "#    argument: /data/external/whois-database-dumps/201507/20150701.delegated-lacnic.txt.gz\r\n",
      "#    argument: /data/external/whois-database-dumps/201507/20150701.delegated-ripencc.txt.gz\r\n",
      "#    argument: /data/external/whois-database-dumps/201507/20150701.delegated-iana.txt.gz\r\n",
      "# format:org_id|changed|org_name|country|source\r\n",
      "01CO-ARIN|20150430|O1.com|US|ARIN\r\n",
      "111S-ARIN|20141114|One Eleven Internet Services|US|ARIN\r\n",
      "1800CO-2-ARIN|20141119|1-800 Contacts, Inc.|US|ARIN\r\n",
      "1800FL-ARIN|20150409|1-800-Flowers.com, Inc.|US|ARIN\r\n",
      "1800H-ARIN|20140723|1-800-HOSTING, Inc.|US|ARIN\r\n",
      "1881CS-ARIN|20121010|1881CS/XPC|US|ARIN\r\n"
     ]
    }
   ],
   "source": [
    "!head -n 20 ../data/20150701.as-org2info.txt"
   ]
  },
  {
   "cell_type": "code",
   "execution_count": 13,
   "metadata": {
    "collapsed": false
   },
   "outputs": [],
   "source": [
    "df=pd.read_csv('../data/20150701.as-org2info.txt',skiprows=16,sep='|',names=['id','changed','name','country','source'])"
   ]
  },
  {
   "cell_type": "code",
   "execution_count": 21,
   "metadata": {
    "collapsed": false
   },
   "outputs": [
    {
     "data": {
      "text/plain": [
       "DNIC-ASBLK-05120-05376                                 257\n",
       "DNIC-ASBLK-05800-06055                                 256\n",
       "GONET-ASN-17                                           244\n",
       "INRIA-Rocquencourt                                     146\n",
       "AFCONC-BLOCK1-AS                                       130\n",
       "DNIC-ASBLK-27032-27159                                 128\n",
       "SPRINT-MRN-BLOCK                                       100\n",
       "FRANCE-TELECOM-AS                                       99\n",
       "FR-ASNBLOCK                                             78\n",
       "FR-ASNBLOCK2                                            72\n",
       "DNIC-ASBLK-00306-00371                                  66\n",
       "DNIC-ASBLK-04065-04125                                  61\n",
       "FR-RENATER                                              61\n",
       "CreditSuisseGroup-AS                                    57\n",
       "SURFNET-AS                                              52\n",
       "SURFnet BV                                              52\n",
       "DNIC-ASBLK-01550-01601                                  52\n",
       "DNIC-ASBLK-00616-00665                                  50\n",
       "ASN1                                                    50\n",
       "HPES                                                    40\n",
       "DNIC-ASBLK-03859-03897                                  39\n",
       "RENATER_ASNBLOCK1                                       37\n",
       "ISC-F-AS                                                33\n",
       "CDAGOVN                                                 32\n",
       "IDNIC-ID                                                29\n",
       "DNIC-ASBLK-04328-04351                                  24\n",
       "ESNET-AS                                                21\n",
       "DBP                                                     21\n",
       "ISPACE                                                  20\n",
       "AFCONC-BLOCK2-AS                                        20\n",
       "                                                      ... \n",
       "Level3 Carrier Ltd.                                      1\n",
       "CLUEFULCOLO-AS                                           1\n",
       "OAKTONCOMMUNITYCOLLEGE                                   1\n",
       "BCCARD-AS-KR                                             1\n",
       "DAILY                                                    1\n",
       "NTWEB SOLUCOES EM INTERNET LTDA ME                       1\n",
       "Westrux International, Inc.                              1\n",
       "ADDISON-LEE                                              1\n",
       "AS59042                                                  1\n",
       "TICKETMASTER-EU                                          1\n",
       "GDC4S-PACIFIC                                            1\n",
       "Societe Nigerienne des Telecommunications (SONITEL)      1\n",
       "EMMELIBRI-AS                                             1\n",
       "Alpla LLC                                                1\n",
       "NWLRBD                                                   1\n",
       "Crown Equipment Corporation                              1\n",
       "EMPRESAS INDEXA S.A.                                     1\n",
       "VYNAMICS-SUNGARDDEN2                                     1\n",
       "Institut Catala de Tecnologia                            1\n",
       "S24                                                      1\n",
       "Arkema Inc.                                              1\n",
       "PROKMA-AS                                                1\n",
       "Peik Navid Sazan Farda Co.                               1\n",
       "ARTETV                                                   1\n",
       "Stella Systems, LLC                                      1\n",
       "IBERIA                                                   1\n",
       "Wiland Ltd                                               1\n",
       "One Connect Limited                                      1\n",
       "NGBPS LTD                                                1\n",
       "IBW Communications                                       1\n",
       "dtype: int64"
      ]
     },
     "execution_count": 21,
     "metadata": {},
     "output_type": "execute_result"
    }
   ],
   "source": [
    "df.name.value_counts()"
   ]
  },
  {
   "cell_type": "code",
   "execution_count": 22,
   "metadata": {
    "collapsed": true
   },
   "outputs": [],
   "source": [
    "df=pd.read_csv('../data/ipv4-address-space.csv')"
   ]
  },
  {
   "cell_type": "code",
   "execution_count": 27,
   "metadata": {
    "collapsed": false
   },
   "outputs": [
    {
     "data": {
      "text/plain": [
       "Administered by ARIN                                                   47\n",
       "APNIC                                                                  45\n",
       "ARIN                                                                   36\n",
       "RIPE NCC                                                               35\n",
       "Future use                                                             16\n",
       "Multicast                                                              16\n",
       "LACNIC                                                                  9\n",
       "Administered by APNIC                                                   6\n",
       "Administered by RIPE NCC                                                5\n",
       "AFRINIC                                                                 4\n",
       "Defense Information Systems Agency                                      4\n",
       "US-DOD                                                                  2\n",
       "Administered by AFRINIC                                                 2\n",
       "Level 3 Communications, Inc.                                            2\n",
       "Digital Equipment Corporation                                           1\n",
       "Daimler AG                                                              1\n",
       "AT&T Bell Laboratories                                                  1\n",
       "Prudential Securities Inc.                                              1\n",
       "IBM                                                                     1\n",
       "IANA - Private Use                                                      1\n",
       "Ford Motor Company                                                      1\n",
       "DoD Network Information Center                                          1\n",
       "General Electric Company                                                1\n",
       "Amateur Radio Digital Communications                                    1\n",
       "US Postal Service                                                       1\n",
       "DSI-North                                                               1\n",
       "Apple Computer Inc.                                                     1\n",
       "DDN-RVN                                                                 1\n",
       "PSINet, Inc.                                                            1\n",
       "Administered by LACNIC                                                  1\n",
       "IANA - Local Identification                                             1\n",
       "UK Ministry of Defence                                                  1\n",
       "IANA - Loopback                                                         1\n",
       "MIT                                                                     1\n",
       "DLA Systems Automation Center                                           1\n",
       "DoD Intel Information Systems                                           1\n",
       "Societe Internationale de Telecommunications Aeronautiques S.C.R.L.     1\n",
       "Hewlett-Packard Company                                                 1\n",
       "Computer Sciences Corporation                                           1\n",
       "Army Information Systems Center                                         1\n",
       "Halliburton Company                                                     1\n",
       "dtype: int64"
      ]
     },
     "execution_count": 27,
     "metadata": {},
     "output_type": "execute_result"
    }
   ],
   "source": [
    "df.Designation.value_counts()"
   ]
  },
  {
   "cell_type": "code",
   "execution_count": null,
   "metadata": {
    "collapsed": true
   },
   "outputs": [],
   "source": []
  }
 ],
 "metadata": {
  "kernelspec": {
   "display_name": "Python 2",
   "language": "python",
   "name": "python2"
  },
  "language_info": {
   "codemirror_mode": {
    "name": "ipython",
    "version": 2
   },
   "file_extension": ".py",
   "mimetype": "text/x-python",
   "name": "python",
   "nbconvert_exporter": "python",
   "pygments_lexer": "ipython2",
   "version": "2.7.10"
  }
 },
 "nbformat": 4,
 "nbformat_minor": 0
}
